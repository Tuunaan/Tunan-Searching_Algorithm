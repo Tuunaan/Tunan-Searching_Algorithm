{
  "nbformat": 4,
  "nbformat_minor": 0,
  "metadata": {
    "colab": {
      "provenance": []
    },
    "kernelspec": {
      "name": "python3",
      "display_name": "Python 3"
    },
    "language_info": {
      "name": "python"
    }
  },
  "cells": [
    {
      "cell_type": "code",
      "source": [
        "#Breath First Search\n",
        "def BFS(visit,dic,node) :\n",
        "  explore=[]\n",
        "  visit.append(node)\n",
        "  explore.append(node)\n",
        "  while explore:\n",
        "    node=explore.pop(0)\n",
        "    print(node, end=\" \")\n",
        "    for c in dic[node] :\n",
        "      if c not in visit :\n",
        "        visit.append(c)\n",
        "        explore.append(c)\n",
        "\n",
        "vst=[]\n",
        "dic={'1': ['2', '3', '8', '10'],\n",
        "     '2': ['1', '5'],\n",
        "     '3': ['1', '9', '7'],\n",
        "     '10': ['4', '1', '11'],\n",
        "     '4': ['10', '6', '7', '8'],\n",
        "     '5': ['2'],\n",
        "     '6': ['4', '8'],\n",
        "     '7': ['4', '3'],\n",
        "     '8': ['6', '1', '4'],\n",
        "     '9': ['3', '11'],\n",
        "     '11': ['9', '10']}\n",
        "BFS(vst,dic,\"1\")\n",
        "\n"
      ],
      "metadata": {
        "colab": {
          "base_uri": "https://localhost:8080/"
        },
        "id": "TveeRyQ2hu_X",
        "outputId": "c7a3a996-4ce0-4049-da68-6405c133b6d1"
      },
      "execution_count": 67,
      "outputs": [
        {
          "output_type": "stream",
          "name": "stdout",
          "text": [
            "1 2 3 8 10 5 9 7 6 4 11 "
          ]
        }
      ]
    },
    {
      "cell_type": "code",
      "source": [
        "#Deaoth First Search\n",
        "def DFS(visited,dic,node):\n",
        "  if node not in visited:\n",
        "    print(node, end=\" \")\n",
        "    visited.append(node)\n",
        "    for c in dic[node]:\n",
        "      DFS (visited,dic,c)\n",
        "\n",
        "vst=[]\n",
        "dic={'1': ['2', '3', '8', '10'],\n",
        "     '2': ['1', '5'],\n",
        "     '3': ['1', '9', '7'],\n",
        "     '10': ['4', '1', '11'],\n",
        "     '4': ['10', '6', '7', '8'],\n",
        "     '5': ['2'],\n",
        "     '6': ['4', '8'],\n",
        "     '7': ['4', '3'],\n",
        "     '8': ['6', '1', '4'],\n",
        "     '9': ['3', '11'],\n",
        "     '11': ['9', '10']}\n",
        "DFS(vst,dic,\"1\")\n"
      ],
      "metadata": {
        "colab": {
          "base_uri": "https://localhost:8080/"
        },
        "id": "N0zIyDBdh0E9",
        "outputId": "205d5bd6-aa25-4742-c1e6-38cf3f911f58"
      },
      "execution_count": 66,
      "outputs": [
        {
          "output_type": "stream",
          "name": "stdout",
          "text": [
            "1 2 5 3 9 11 10 4 6 8 7 "
          ]
        }
      ]
    },
    {
      "cell_type": "code",
      "source": [
        "#Linear_Search\n",
        "def linear_search(arr,element):\n",
        "  for i in range(len(arr)-1):\n",
        "    if arr[i]==element:\n",
        "      return i\n",
        "  return -1\n",
        "a1=[10,20,30,40,50]\n",
        "a2=[15,25,35,45,55]\n",
        "s1=linear_search(a1,30)\n",
        "s2=linear_search(a2,19)\n",
        "print(s1,s2)\n"
      ],
      "metadata": {
        "colab": {
          "base_uri": "https://localhost:8080/"
        },
        "id": "m4Tu0EZIh2I9",
        "outputId": "0edeb9c0-6de2-4cb7-b218-c4af48774765"
      },
      "execution_count": 63,
      "outputs": [
        {
          "output_type": "stream",
          "name": "stdout",
          "text": [
            "2 -1\n"
          ]
        }
      ]
    },
    {
      "cell_type": "code",
      "source": [
        "#Binary_Search\n",
        "def binary_search(arr,left,right,element):\n",
        "  if left<=right:\n",
        "    mid=(left+right)//2\n",
        "    if element==arr[mid]:\n",
        "      return mid\n",
        "    elif element<arr[mid]:\n",
        "      return binary_search(arr,left,mid-1,element)\n",
        "    elif element>arr[mid]:\n",
        "      return binary_search(arr,mid+1,right,element)\n",
        "  else:\n",
        "    return -1\n",
        "\n",
        "arr=[10,20,30,40,50,60,70,80,90,100]\n",
        "s1=binary_search(arr,0,len(arr)-1,90)\n",
        "s2=binary_search(arr,0,len(arr)-1,45)\n",
        "s3=binary_search(arr,0,len(arr)-1,20)\n",
        "print(s1,s2,s3)\n"
      ],
      "metadata": {
        "colab": {
          "base_uri": "https://localhost:8080/"
        },
        "id": "1a0YrAe6h4jK",
        "outputId": "cde64f3e-ff6c-43df-fde3-58af0c405343"
      },
      "execution_count": 64,
      "outputs": [
        {
          "output_type": "stream",
          "name": "stdout",
          "text": [
            "8 -1 1\n"
          ]
        }
      ]
    },
    {
      "cell_type": "code",
      "source": [
        "#Ternary_Search\n",
        "def ternary_search(arr,left,right,element):\n",
        "  if left<=right:\n",
        "    mid1=left+((right-left)//2)\n",
        "    mid2=right-((right-left)//2)\n",
        "    if element==arr[mid1]:\n",
        "      return mid1\n",
        "    if element==arr[mid2]:\n",
        "      return mid2\n",
        "    elif element<arr[mid1]:\n",
        "      return ternary_search(arr,left,mid1-1,element)\n",
        "    elif element>arr[mid2]:\n",
        "      return ternary_search(arr,mid2+1,right,element)\n",
        "    else:\n",
        "      return ternary_search(arr,mid1+1,mid2-1,element)\n",
        "  else:\n",
        "    return -1\n",
        "\n",
        "arr=[5,15,25,35,45,55,65,75,85,95,105]\n",
        "s1=ternary_search(arr,0,len(arr)-1,5)\n",
        "s2=ternary_search(arr,0,len(arr)-1,55)\n",
        "s3=ternary_search(arr,0,len(arr)-1,105)\n",
        "s4=ternary_search(arr,0,len(arr)-1,50)\n",
        "print(s1,s2,s3,s4)\n"
      ],
      "metadata": {
        "colab": {
          "base_uri": "https://localhost:8080/"
        },
        "id": "h7OPyyBZh65g",
        "outputId": "40d3011e-9b13-4563-fc97-74eef55d0b1f"
      },
      "execution_count": 65,
      "outputs": [
        {
          "output_type": "stream",
          "name": "stdout",
          "text": [
            "0 5 10 -1\n"
          ]
        }
      ]
    }
  ]
}